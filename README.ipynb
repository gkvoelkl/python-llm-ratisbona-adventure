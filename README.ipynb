{
 "cells": [
  {
   "cell_type": "markdown",
   "id": "f4169895-9110-4d6a-8552-3ee0d49d8270",
   "metadata": {},
   "source": [
    "# chatAdventure - ratisbona dungeons"
   ]
  },
  {
   "cell_type": "markdown",
   "id": "c2b1ccd5-6a1e-437f-b9db-a995a5855fc8",
   "metadata": {},
   "source": [
    "<img src=\"titel.jpg\" width=\"320\" align=\"right\"><br><br><br><br><br><br><br><br>"
   ]
  },
  {
   "cell_type": "markdown",
   "id": "e5363834-a363-4313-9ba8-73a15855c68a",
   "metadata": {},
   "source": [
    "Du erforscht die Dungeons unter der Stadt Regensburg. Die komplette Handlung und Personen übernimmt ChatGPT oder eine anderes Large Language Model(LLM)."
   ]
  },
  {
   "cell_type": "markdown",
   "id": "27ddb3b2-c117-460a-9107-dfc9c36bbac0",
   "metadata": {},
   "source": [
    "<img src=\"img/image1.jpg\" width=\"640\" align=\"left\"><br><br><br><br><br><br><br><br>"
   ]
  },
  {
   "cell_type": "markdown",
   "id": "7668f01d-8a35-4c17-bd2f-95285b0076eb",
   "metadata": {},
   "source": [
    "## Installation"
   ]
  },
  {
   "cell_type": "markdown",
   "id": "1a3ce75c-ed7c-483f-a295-716fc6205037",
   "metadata": {},
   "source": [
    "### Im Web spielen"
   ]
  },
  {
   "cell_type": "markdown",
   "id": "89820a05-2180-4946-916a-79c6cd6d854e",
   "metadata": {},
   "source": [
    "Das Spiel chatAdventure-ratisbona dungeons steht in der Streamlit Cloud frei zur Verfügung.\n",
    "\n",
    "Einfach auf diesen Link https://cases-murder-mystery-game.streamlit.app klicken"
   ]
  },
  {
   "cell_type": "markdown",
   "id": "27d69a2b-1819-4743-99e3-28c557dc77ba",
   "metadata": {},
   "source": [
    "### Lokale Installation"
   ]
  },
  {
   "cell_type": "markdown",
   "id": "9f40a4ae-d7be-40c5-8807-486bf56ef741",
   "metadata": {},
   "source": [
    "* Verzeichnis von GitHub auf Platte kopieren\n",
    "* In das Verzeichnis wechseln\n",
    "* Sicherstellen, dass alle Python-Module vorhanden sind **pip install -r requirements.txt**\n",
    "* Starten der Anwendung mit **streamlit run app.py**"
   ]
  },
  {
   "cell_type": "markdown",
   "id": "b73579cf-e3d9-4ddd-85d8-9e8a92b92772",
   "metadata": {},
   "source": [
    "### Lokales LLM"
   ]
  },
  {
   "cell_type": "markdown",
   "id": "46783402-d5f0-4ea3-8298-7efd6aece679",
   "metadata": {},
   "source": [
    "* Ollama installieren (https://ollama.com)\n",
    "* Model laden und starten\n",
    "* Danach Spiel starten"
   ]
  },
  {
   "cell_type": "markdown",
   "id": "0ab1ee0d-4bdc-443e-a20a-25ee412a7b04",
   "metadata": {},
   "source": [
    "## Bilder generieren"
   ]
  },
  {
   "cell_type": "markdown",
   "id": "8b90164f-1825-4666-9c69-334e1d38d649",
   "metadata": {},
   "source": [
    "Das Generieren der Bilder ist aktuell nur mit Dall-E und dem entsprechenden API-KEY von OpenAI möglich"
   ]
  },
  {
   "cell_type": "markdown",
   "id": "a6c7931e-aad9-4ab7-ac7d-62baf431a060",
   "metadata": {},
   "source": [
    "<img src=\"img/image2.jpg\" width=\"640\" align=\"left\"><br><br><br><br>"
   ]
  },
  {
   "cell_type": "code",
   "execution_count": null,
   "id": "54c4c189-4714-4760-a687-242455754a8c",
   "metadata": {},
   "outputs": [],
   "source": []
  }
 ],
 "metadata": {
  "kernelspec": {
   "display_name": "Rust",
   "language": "rust",
   "name": "rust"
  },
  "language_info": {
   "codemirror_mode": "rust",
   "file_extension": ".rs",
   "mimetype": "text/rust",
   "name": "Rust",
   "pygment_lexer": "rust",
   "version": ""
  }
 },
 "nbformat": 4,
 "nbformat_minor": 5
}
